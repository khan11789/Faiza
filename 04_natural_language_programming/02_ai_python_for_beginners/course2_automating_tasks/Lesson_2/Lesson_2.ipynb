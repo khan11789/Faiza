{
  "cells": [
    {
      "cell_type": "markdown",
      "metadata": {
        "id": "view-in-github",
        "colab_type": "text"
      },
      "source": [
        "<a href=\"https://colab.research.google.com/github/khan11789/Faiza/blob/main/04_natural_language_programming/02_ai_python_for_beginners/course2_automating_tasks/Lesson_2/Lesson_2.ipynb\" target=\"_parent\"><img src=\"https://colab.research.google.com/assets/colab-badge.svg\" alt=\"Open In Colab\"/></a>"
      ]
    },
    {
      "cell_type": "markdown",
      "id": "4bd8fbd2-de5c-47bd-bcd9-cbbe8cdc3104",
      "metadata": {
        "id": "4bd8fbd2-de5c-47bd-bcd9-cbbe8cdc3104"
      },
      "source": [
        "# Lesson 2 - Repeating tasks with for loops"
      ]
    },
    {
      "cell_type": "markdown",
      "id": "f6556a1e",
      "metadata": {
        "id": "f6556a1e"
      },
      "source": [
        "### Download helper_function.py\n",
        "* pls set Secrets Variable for Gemini in Collab\n",
        "* `GEMINI_API_KEY`\n",
        "\n",
        "[Get API KEY From Google AI Studio](https://aistudio.google.com/app/apikey)"
      ]
    },
    {
      "cell_type": "code",
      "execution_count": 27,
      "id": "2435d49a",
      "metadata": {
        "id": "2435d49a",
        "outputId": "af6b92ab-6a09-41c8-a0a9-bbe9bbccced4",
        "colab": {
          "base_uri": "https://localhost:8080/"
        }
      },
      "outputs": [
        {
          "output_type": "stream",
          "name": "stdout",
          "text": [
            "  % Total    % Received % Xferd  Average Speed   Time    Time     Time  Current\n",
            "                                 Dload  Upload   Total   Spent    Left  Speed\n",
            "\r  0     0    0     0    0     0      0      0 --:--:-- --:--:-- --:--:--     0\r100  3944  100  3944    0     0  16922      0 --:--:-- --:--:-- --:--:-- 17000\n"
          ]
        }
      ],
      "source": [
        "### Download helper_function.py\n",
        "# * Set Secrets Variable for Gemini\n",
        "# * `GEMINI_API_KEY`\n",
        "\n",
        "!curl -o helper_functions.py https://raw.githubusercontent.com/panaversity/learn-cloud-native-modern-ai-python/main/04_natural_language_programming/02_ai_python_for_beginners/course1_basics/Lesson_9/helper_functions.py"
      ]
    },
    {
      "cell_type": "markdown",
      "id": "e270cc1f",
      "metadata": {
        "id": "e270cc1f"
      },
      "source": [
        "This lesson will introduce you to a very important concept in programming: the `for` loop. A `for` loop is a special code pattern found in many languages that allows you to repeatedly perform actions on all the items in a list in an automated way. Let's take a look by starting with loading some functions."
      ]
    },
    {
      "cell_type": "code",
      "execution_count": null,
      "id": "41ef33ad-2b5c-40db-a1ab-9f3c689edd55",
      "metadata": {
        "id": "41ef33ad-2b5c-40db-a1ab-9f3c689edd55"
      },
      "outputs": [],
      "source": [
        "from helper_functions import print_llm_response, get_llm_response"
      ]
    },
    {
      "cell_type": "markdown",
      "id": "db2a457b",
      "metadata": {
        "id": "db2a457b"
      },
      "source": [
        "## From previous lesson\n",
        "\n",
        "At the end of last lesson you saw this list of tasks"
      ]
    },
    {
      "cell_type": "code",
      "execution_count": 28,
      "id": "c2f3989f",
      "metadata": {
        "id": "c2f3989f",
        "outputId": "6d917938-3f0d-44cf-f3bb-fa1c6047f631",
        "colab": {
          "base_uri": "https://localhost:8080/"
        }
      },
      "outputs": [
        {
          "output_type": "stream",
          "name": "stdout",
          "text": [
            "[\"Compose a brief email to my principal explaining that I will be late for tomorrow's meeting.\", 'Write a birthday poem for Faiza khan, celebrating her 28th birthday.', \"Write a 100-word review of the movie 'Gen z'.\"]\n"
          ]
        }
      ],
      "source": [
        "#from previous lesson:\n",
        "list_of_tasks = [\n",
        "    \"Compose a brief email to my principal explaining that I will be late for tomorrow's meeting.\",\n",
        "    \"Write a birthday poem for Faiza khan, celebrating her 28th birthday.\",\n",
        "    \"Write a 100-word review of the movie 'Gen z'.\"\n",
        "]\n",
        "print(list_of_tasks)"
      ]
    },
    {
      "cell_type": "markdown",
      "id": "e5bae794",
      "metadata": {
        "id": "e5bae794"
      },
      "source": [
        "You passed them one by one to the LLM, repeatedly updated the task variable, then re-executed the function call with this code:"
      ]
    },
    {
      "cell_type": "code",
      "execution_count": 31,
      "id": "9f426b72",
      "metadata": {
        "id": "9f426b72",
        "outputId": "bb5d24e9-497f-40d6-c6cb-ce1382060381",
        "colab": {
          "base_uri": "https://localhost:8080/",
          "height": 158
        }
      },
      "outputs": [
        {
          "output_type": "error",
          "ename": "NameError",
          "evalue": "name 'print_llm_response' is not defined",
          "traceback": [
            "\u001b[0;31m---------------------------------------------------------------------------\u001b[0m",
            "\u001b[0;31mNameError\u001b[0m                                 Traceback (most recent call last)",
            "\u001b[0;32m<ipython-input-31-5524e3adc340>\u001b[0m in \u001b[0;36m<cell line: 2>\u001b[0;34m()\u001b[0m\n\u001b[1;32m      1\u001b[0m \u001b[0mtask\u001b[0m \u001b[0;34m=\u001b[0m \u001b[0mlist_of_tasks\u001b[0m\u001b[0;34m[\u001b[0m\u001b[0;36m0\u001b[0m\u001b[0;34m]\u001b[0m\u001b[0;34m\u001b[0m\u001b[0;34m\u001b[0m\u001b[0m\n\u001b[0;32m----> 2\u001b[0;31m \u001b[0mprint_llm_response\u001b[0m\u001b[0;34m(\u001b[0m\u001b[0mtask\u001b[0m\u001b[0;34m[\u001b[0m\u001b[0;36m0\u001b[0m\u001b[0;34m]\u001b[0m\u001b[0;34m)\u001b[0m\u001b[0;34m\u001b[0m\u001b[0;34m\u001b[0m\u001b[0m\n\u001b[0m",
            "\u001b[0;31mNameError\u001b[0m: name 'print_llm_response' is not defined"
          ]
        }
      ],
      "source": [
        "task = list_of_tasks[0]\n",
        "print_llm_response(task[0])"
      ]
    },
    {
      "cell_type": "markdown",
      "id": "c46ed944-05e1-4ae0-a238-f172413b1771",
      "metadata": {
        "id": "c46ed944-05e1-4ae0-a238-f172413b1771"
      },
      "source": [
        "If you wanted to complete all the tasks in your list, you would have to re-write the same code multiple times. Alternatively, you can use a `for` loop."
      ]
    },
    {
      "cell_type": "markdown",
      "id": "b40551bc",
      "metadata": {
        "id": "b40551bc"
      },
      "source": [
        "## Iterating through task lists with AI"
      ]
    },
    {
      "cell_type": "markdown",
      "id": "58985454-e28e-49c8-9fe9-3b9057bafd08",
      "metadata": {
        "id": "58985454-e28e-49c8-9fe9-3b9057bafd08"
      },
      "source": [
        "When you run the cell below you will see how the for loop iterates through the elements in `list_of_tasks`."
      ]
    },
    {
      "cell_type": "code",
      "source": [],
      "metadata": {
        "id": "LosVluiFWNp-"
      },
      "id": "LosVluiFWNp-",
      "execution_count": null,
      "outputs": []
    },
    {
      "cell_type": "code",
      "source": [
        "# prompt: print( list_of_tasks)\n",
        "\n",
        "print(list_of_tasks)\n",
        "print(list_of_tasks[0])\n",
        "print(list_of_tasks[1])\n",
        "print(list_of_tasks[2])\n"
      ],
      "metadata": {
        "id": "XnyMIoQlWNZ1",
        "outputId": "b2e9d4dc-b348-4b1d-e98a-3e1a64c4d184",
        "colab": {
          "base_uri": "https://localhost:8080/"
        }
      },
      "id": "XnyMIoQlWNZ1",
      "execution_count": 21,
      "outputs": [
        {
          "output_type": "stream",
          "name": "stdout",
          "text": [
            "[\"Compose a brief email to my principal explaining that I will be late for tomorrow's meeting.\", 'Write a birthday poem for Faiza khan, celebrating her 28th birthday.', \"Write a 100-word review of the movie 'Gen z'.\"]\n",
            "Compose a brief email to my principal explaining that I will be late for tomorrow's meeting.\n",
            "Write a birthday poem for Faiza khan, celebrating her 28th birthday.\n",
            "Write a 100-word review of the movie 'Gen z'.\n"
          ]
        }
      ]
    },
    {
      "cell_type": "code",
      "execution_count": 14,
      "id": "0c05dc28-4833-46ae-aad1-3607fab9cd67",
      "metadata": {
        "id": "0c05dc28-4833-46ae-aad1-3607fab9cd67",
        "outputId": "b45ae760-9f60-4020-bcc0-a4cd76a15f18",
        "colab": {
          "base_uri": "https://localhost:8080/"
        }
      },
      "outputs": [
        {
          "output_type": "stream",
          "name": "stdout",
          "text": [
            "Compose a brief email to my principal explaining that I will be late for tomorrow's meeting.\n",
            "Write a birthday poem for Faiza khan, celebrating her 28th birthday.\n",
            "Write a 100-word review of the movie 'Gen z'.\n"
          ]
        }
      ],
      "source": [
        "for task in list_of_tasks:\n",
        "    print(task)"
      ]
    },
    {
      "cell_type": "markdown",
      "id": "e7dedcb5",
      "metadata": {
        "id": "e7dedcb5"
      },
      "source": [
        "Here's the code that automatically passes all items in list to `print_llm_response`"
      ]
    },
    {
      "cell_type": "code",
      "execution_count": 20,
      "id": "721136bd",
      "metadata": {
        "id": "721136bd",
        "outputId": "77232932-4ef3-488a-e750-e1bcbdd47ea6",
        "colab": {
          "base_uri": "https://localhost:8080/",
          "height": 176
        }
      },
      "outputs": [
        {
          "output_type": "error",
          "ename": "NameError",
          "evalue": "name 'print_llm_response' is not defined",
          "traceback": [
            "\u001b[0;31m---------------------------------------------------------------------------\u001b[0m",
            "\u001b[0;31mNameError\u001b[0m                                 Traceback (most recent call last)",
            "\u001b[0;32m<ipython-input-20-a84fa78dc51c>\u001b[0m in \u001b[0;36m<cell line: 1>\u001b[0;34m()\u001b[0m\n\u001b[1;32m      1\u001b[0m \u001b[0;32mfor\u001b[0m \u001b[0mtask\u001b[0m \u001b[0;32min\u001b[0m \u001b[0mlist_of_tasks\u001b[0m\u001b[0;34m:\u001b[0m\u001b[0;34m\u001b[0m\u001b[0;34m\u001b[0m\u001b[0m\n\u001b[0;32m----> 2\u001b[0;31m     \u001b[0mprint_llm_response\u001b[0m\u001b[0;34m(\u001b[0m\u001b[0mtask\u001b[0m\u001b[0;34m)\u001b[0m\u001b[0;34m\u001b[0m\u001b[0;34m\u001b[0m\u001b[0m\n\u001b[0m\u001b[1;32m      3\u001b[0m     \u001b[0mprint\u001b[0m\u001b[0;34m(\u001b[0m\u001b[0;34m\"task complete\"\u001b[0m\u001b[0;34m)\u001b[0m\u001b[0;34m\u001b[0m\u001b[0;34m\u001b[0m\u001b[0m\n",
            "\u001b[0;31mNameError\u001b[0m: name 'print_llm_response' is not defined"
          ]
        }
      ],
      "source": [
        "for task in list_of_tasks:\n",
        "    print_llm_response(task)\n",
        "    print(\"task complete\")"
      ]
    },
    {
      "source": [
        "for task in list_of_tasks:\n",
        "       print(task)\n",
        "       print(\"task complete\")"
      ],
      "cell_type": "code",
      "metadata": {
        "id": "HPRFOLiuaAc-",
        "outputId": "3cbc455f-f0f3-487b-9979-3d0f9ad339d3",
        "colab": {
          "base_uri": "https://localhost:8080/"
        }
      },
      "id": "HPRFOLiuaAc-",
      "execution_count": 24,
      "outputs": [
        {
          "output_type": "stream",
          "name": "stdout",
          "text": [
            "Compose a brief email to my principal explaining that I will be late for tomorrow's meeting.\n",
            "task complete\n",
            "Write a birthday poem for Faiza khan, celebrating her 28th birthday.\n",
            "task complete\n",
            "Write a 100-word review of the movie 'Gen z'.\n",
            "task complete\n"
          ]
        }
      ]
    },
    {
      "cell_type": "code",
      "source": [
        "list_of_tasks = [\n",
        "    \"Compose a brief email to my principal explaining that I will be late for tomorrow's meeting.\",\n",
        "    \"Write a birthday poem for Faiza khan, celebrating her 28th birthday.\",\n",
        "]\n",
        "for task in list_of_tasks:\n",
        "    pass # Write a birthday poem for Faiza khan, celebrating her 28th birthday.\",\n",
        "    \"Write a 100-word review of the movie 'Gen z'.\"\n",
        "]\n",
        "print_llm_response(task)"
      ],
      "metadata": {
        "id": "pRQwRMY7ZCbr",
        "outputId": "74c152f6-5d9a-4006-eb3e-9d137f6e6d24",
        "colab": {
          "base_uri": "https://localhost:8080/",
          "height": 106
        }
      },
      "id": "pRQwRMY7ZCbr",
      "execution_count": 26,
      "outputs": [
        {
          "output_type": "error",
          "ename": "SyntaxError",
          "evalue": "invalid syntax (<ipython-input-26-e3c523e26964>, line 1)",
          "traceback": [
            "\u001b[0;36m  File \u001b[0;32m\"<ipython-input-26-e3c523e26964>\"\u001b[0;36m, line \u001b[0;32m1\u001b[0m\n\u001b[0;31m    for task in list_of_tasks = [\u001b[0m\n\u001b[0m                              ^\u001b[0m\n\u001b[0;31mSyntaxError\u001b[0m\u001b[0;31m:\u001b[0m invalid syntax\n"
          ]
        }
      ]
    },
    {
      "cell_type": "markdown",
      "id": "f9a7a927",
      "metadata": {
        "id": "f9a7a927"
      },
      "source": [
        "Let's break this down.\n",
        "\n",
        "The `for task in list` pattern works as follows:\n",
        "\n",
        "- `task` is assigned the first item in the list. In this case, it's the string `\"Compose a brief email to my boss explaining that I will be late for tomorrow's meeting.\"`\n",
        "- The next indented line is called a block and contains an action to carry out on `task`. In this example, the string gets passed to the LLM, and the result appears on the screen.\n",
        "- Then the loop starts again. Now, `task` is assigned the string \"Write a birthday poem for Otto, celebrating his 28th birthday.\" It's the same variable, but with a different value.\n",
        "- `get_llm_response` runs again, and so on.\n",
        "\n",
        "Be sure to call out the `:` at the end of the line. Indentation is crucial; if it’s not correct, you'll get an error."
      ]
    },
    {
      "cell_type": "code",
      "execution_count": null,
      "id": "8516a3dc",
      "metadata": {
        "id": "8516a3dc"
      },
      "outputs": [],
      "source": [
        "for task in list_of_tasks:\n",
        "print_llm_response(task)"
      ]
    },
    {
      "cell_type": "markdown",
      "id": "2d8e58be",
      "metadata": {
        "id": "2d8e58be"
      },
      "source": [
        "<p style=\"background-color:#F5C780; padding:15px\"> 🤖 <b>Use the Chatbot</b>: Explain indentation error and help me fix it in this for loop: <br>\n",
        "for task in list_of_tasks:<br>\n",
        "print_llm_response(task)\n",
        "</p>"
      ]
    },
    {
      "cell_type": "markdown",
      "id": "8fdafdba-1a33-4bbd-9061-6950bd8bc488",
      "metadata": {
        "id": "8fdafdba-1a33-4bbd-9061-6950bd8bc488"
      },
      "source": [
        "## Iteratively updating AI prompts using lists"
      ]
    },
    {
      "cell_type": "markdown",
      "id": "09cf3e07",
      "metadata": {
        "id": "09cf3e07"
      },
      "source": [
        "You can even use lists with for loops to iteratively update more complex prompts with the list items. For instance, let's say that you have a list of ice-cream flavors:"
      ]
    },
    {
      "cell_type": "code",
      "execution_count": 37,
      "id": "385f6ec5",
      "metadata": {
        "id": "385f6ec5"
      },
      "outputs": [],
      "source": [
        "#ice cream flavor example\n",
        "ice_cream_flavors = [\n",
        "    \"Vanilla\",\n",
        "    \"Chocolate\",\n",
        "    \"Strawberry\",\n",
        "    \"Mint Chocolate Chip\"\n",
        "]"
      ]
    },
    {
      "cell_type": "markdown",
      "id": "bf5219ea",
      "metadata": {
        "id": "bf5219ea"
      },
      "source": [
        "You can use a for loop to iterate through the flavors and create a captivating description for each of them."
      ]
    },
    {
      "cell_type": "code",
      "execution_count": 40,
      "id": "d732762f",
      "metadata": {
        "id": "d732762f",
        "outputId": "c65d5823-67f7-4007-d49b-08d67c38e33e",
        "colab": {
          "base_uri": "https://localhost:8080/",
          "height": 211
        }
      },
      "outputs": [
        {
          "output_type": "stream",
          "name": "stdout",
          "text": [
            "start...\n"
          ]
        },
        {
          "output_type": "error",
          "ename": "NameError",
          "evalue": "name 'print_llm_response' is not defined",
          "traceback": [
            "\u001b[0;31m---------------------------------------------------------------------------\u001b[0m",
            "\u001b[0;31mNameError\u001b[0m                                 Traceback (most recent call last)",
            "\u001b[0;32m<ipython-input-40-1312342e3adf>\u001b[0m in \u001b[0;36m<cell line: 1>\u001b[0;34m()\u001b[0m\n\u001b[1;32m      7\u001b[0m     \"\"\"\n\u001b[1;32m      8\u001b[0m     \u001b[0mprint\u001b[0m\u001b[0;34m(\u001b[0m\u001b[0;34m\"start...\"\u001b[0m\u001b[0;34m)\u001b[0m\u001b[0;34m\u001b[0m\u001b[0;34m\u001b[0m\u001b[0m\n\u001b[0;32m----> 9\u001b[0;31m     \u001b[0mprint_llm_response\u001b[0m\u001b[0;34m(\u001b[0m\u001b[0mprompt\u001b[0m\u001b[0;34m)\u001b[0m\u001b[0;34m\u001b[0m\u001b[0;34m\u001b[0m\u001b[0m\n\u001b[0m\u001b[1;32m     10\u001b[0m     \u001b[0mprint\u001b[0m\u001b[0;34m(\u001b[0m\u001b[0;34m\"end...\"\u001b[0m\u001b[0;34m)\u001b[0m\u001b[0;34m\u001b[0m\u001b[0;34m\u001b[0m\u001b[0m\n",
            "\u001b[0;31mNameError\u001b[0m: name 'print_llm_response' is not defined"
          ]
        }
      ],
      "source": [
        "for flavor in ice_cream_flavors:\n",
        "    prompt = f\"\"\"For the ice cream flavor listed below,\n",
        "    provide a captivating description that could be used for promotional purposes.\n",
        "\n",
        "    Flavor: {flavor}\n",
        "\n",
        "    \"\"\"\n",
        "    print(\"start...\")\n",
        "    print_llm_response(prompt)\n",
        "    print(\"end...\")"
      ]
    },
    {
      "cell_type": "markdown",
      "id": "d3f3ead6",
      "metadata": {
        "id": "d3f3ead6"
      },
      "source": [
        "Now that you know how to use lists, you can even save the promortional descriptions to another list using `.append()`:"
      ]
    },
    {
      "cell_type": "code",
      "execution_count": null,
      "id": "db66a442",
      "metadata": {
        "id": "db66a442"
      },
      "outputs": [],
      "source": [
        "#saving results to a list\n",
        "promotional_descriptions = []\n",
        "for flavor in ice_cream_flavors:\n",
        "    prompt = f\"\"\"For the ice cream flavor listed below,\n",
        "    provide a captivating description that could be used for promotional purposes.\n",
        "\n",
        "    Flavor: {flavor}\n",
        "\n",
        "    \"\"\"\n",
        "    description = get_llm_response(prompt)\n",
        "    promotional_descriptions.append(description)"
      ]
    },
    {
      "cell_type": "markdown",
      "id": "ebdbcfa5",
      "metadata": {
        "id": "ebdbcfa5"
      },
      "source": [
        "After you run that code, you should be able to access the promotional descriptions for each of your ice-cream flavors."
      ]
    },
    {
      "cell_type": "code",
      "execution_count": null,
      "id": "cad94172",
      "metadata": {
        "id": "cad94172"
      },
      "outputs": [],
      "source": [
        "print(promotional_descriptions)"
      ]
    },
    {
      "cell_type": "markdown",
      "id": "7135f13d-0f36-4de4-9365-bdadb8e6d611",
      "metadata": {
        "id": "7135f13d-0f36-4de4-9365-bdadb8e6d611"
      },
      "source": [
        "## Extra practice"
      ]
    },
    {
      "cell_type": "markdown",
      "id": "c01cc56d-92c7-4632-8cf9-aef3f9f9e3c7",
      "metadata": {
        "id": "c01cc56d-92c7-4632-8cf9-aef3f9f9e3c7"
      },
      "source": [
        "Please go through the exercises in the cells below if you want some extra practice for the topics you covered in this lesson."
      ]
    },
    {
      "cell_type": "code",
      "execution_count": null,
      "id": "f5a19e85-cd80-4e02-a5e1-762284bd27b6",
      "metadata": {
        "id": "f5a19e85-cd80-4e02-a5e1-762284bd27b6"
      },
      "outputs": [],
      "source": [
        "# Fix the following code.\n",
        "# It should print the flavors in\n",
        "# ice_cream_flavors one by one.\n",
        "\n",
        "ice_cream_flavors = [\"Chocolate\", \"Mint Chocolate Chip\"]\n",
        "\n",
        "### EDIT THE FOLLOWING CODE ###\n",
        "for flavor in ice_cream_flavors;\n",
        "    print(ice_cream_flavors)\n",
        "### --------------- ###"
      ]
    },
    {
      "cell_type": "code",
      "execution_count": null,
      "id": "7b7480c4-ae67-42bd-8cac-189f1f087053",
      "metadata": {
        "id": "7b7480c4-ae67-42bd-8cac-189f1f087053"
      },
      "outputs": [],
      "source": [
        "# Translate the flavors in ice_cream_flavors to Spanish\n",
        "ice_cream_flavors = [\"Vanilla\", \"Strawberry\"]\n",
        "\n",
        "for flavor in ice_cream_flavors:\n",
        "    ### EDIT THE FOLLOWING CODE ###\n",
        "    #Hint: you only need to add one or two sentences to the prompt\n",
        "    prompt = f\"\"\"For the ice cream flavor listed below,\n",
        "\n",
        "    \"\"\"\n",
        "    ### --------------- ###\n",
        "    print_llm_response(prompt)"
      ]
    },
    {
      "cell_type": "code",
      "execution_count": null,
      "id": "6394bb74-a839-4732-8dbf-1b96bd8e97f9",
      "metadata": {
        "id": "6394bb74-a839-4732-8dbf-1b96bd8e97f9"
      },
      "outputs": [],
      "source": [
        "# Write code to get a list with\n",
        "# words without typos\n",
        "\n",
        "words_with_typos = [\"Aple\", \"Wether\", \"Newpaper\"]\n",
        "words_without_typos = []\n",
        "\n",
        "for word in words_with_typos:\n",
        "    prompt = f\"\"\"Fix the spelling mistake in the following word: {word}\n",
        "    Provide only the word.\n",
        "    \"\"\"\n",
        "    correct_word = get_llm_response(prompt)\n",
        "    ### WRITE CODE HERE  ###\n",
        "    #Hint: Append the correct_word to the words_without_typos list\n",
        "    ### --------------- ###\n",
        "\n",
        "print(words_without_typos)"
      ]
    }
  ],
  "metadata": {
    "kernelspec": {
      "display_name": "Python 3 (ipykernel)",
      "language": "python",
      "name": "python3"
    },
    "language_info": {
      "codemirror_mode": {
        "name": "ipython",
        "version": 3
      },
      "file_extension": ".py",
      "mimetype": "text/x-python",
      "name": "python",
      "nbconvert_exporter": "python",
      "pygments_lexer": "ipython3",
      "version": "3.9.19"
    },
    "colab": {
      "provenance": [],
      "include_colab_link": true
    }
  },
  "nbformat": 4,
  "nbformat_minor": 5
}